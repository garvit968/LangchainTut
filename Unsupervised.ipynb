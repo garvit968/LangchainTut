{
  "nbformat": 4,
  "nbformat_minor": 0,
  "metadata": {
    "colab": {
      "provenance": [],
      "authorship_tag": "ABX9TyP91RFgF9xBVE3i/DinoYjG",
      "include_colab_link": true
    },
    "kernelspec": {
      "name": "python3",
      "display_name": "Python 3"
    },
    "language_info": {
      "name": "python"
    }
  },
  "cells": [
    {
      "cell_type": "markdown",
      "metadata": {
        "id": "view-in-github",
        "colab_type": "text"
      },
      "source": [
        "<a href=\"https://colab.research.google.com/github/garvit968/LangchainTut/blob/main/Unsupervised.ipynb\" target=\"_parent\"><img src=\"https://colab.research.google.com/assets/colab-badge.svg\" alt=\"Open In Colab\"/></a>"
      ]
    },
    {
      "cell_type": "code",
      "execution_count": null,
      "metadata": {
        "colab": {
          "base_uri": "https://localhost:8080/"
        },
        "id": "Y6Fr2uzz7PVR",
        "outputId": "a35bc2d9-537f-4557-dea4-86bddd0b1107"
      },
      "outputs": [
        {
          "output_type": "stream",
          "name": "stdout",
          "text": [
            "0.8981703936425799\n"
          ]
        }
      ],
      "source": [
        "from sklearn.model_selection import train_test_split\n",
        "from sklearn.cluster import KMeans\n",
        "from sklearn.metrics import adjusted_rand_score\n",
        "from sklearn.datasets import load_iris\n",
        "\n",
        "X,y = load_iris(return_X_y=True)\n",
        "X_train,X_test, y_train,y_test = train_test_split(X,y,random_state=42, test_size = 0.2)\n",
        "km = KMeans(n_clusters=3, n_init=10, random_state=42)\n",
        "km.fit(X_train, y_train)\n",
        "print(adjusted_rand_score(y_test, km.predict(X_test)))"
      ]
    },
    {
      "cell_type": "code",
      "source": [
        "# Hyperparameter Tune\n",
        "from sklearn.metrics import silhouette_score\n",
        "\n",
        "scores = []\n",
        "for k in range(2,10):\n",
        "  km = KMeans(n_clusters=k, random_state=42, n_init=10).fit(X)\n",
        "  scores.append(silhouette_score(X, km.labels_))\n",
        "\n",
        "print(scores)"
      ],
      "metadata": {
        "colab": {
          "base_uri": "https://localhost:8080/"
        },
        "id": "oP3StAZWGL9y",
        "outputId": "594cc182-e645-45fc-b762-c4b7bc9616a7"
      },
      "execution_count": null,
      "outputs": [
        {
          "output_type": "stream",
          "name": "stdout",
          "text": [
            "[np.float64(0.6810461692117462), np.float64(0.5528190123564095), np.float64(0.49805050499728737), np.float64(0.49123997967644784), np.float64(0.36483400396700255), np.float64(0.3542978877198849), np.float64(0.3487345377219388), np.float64(0.312504408396839)]\n"
          ]
        }
      ]
    },
    {
      "cell_type": "code",
      "source": [
        "# 👉 If labels are available:\n",
        "\n",
        "# Use ARI, NMI, or V-measure.\n",
        "\n",
        "# 👉 If labels are not available:\n",
        "\n",
        "# Use Silhouette Score, Davies-Bouldin, or Calinski-Harabasz."
      ],
      "metadata": {
        "id": "XszEUcHyHyHf"
      },
      "execution_count": null,
      "outputs": []
    },
    {
      "cell_type": "code",
      "source": [
        "from sklearn.datasets import load_iris\n",
        "from sklearn.model_selection import train_test_split\n",
        "from sklearn.cluster import DBSCAN\n",
        "from sklearn.metrics import adjusted_rand_score\n",
        "\n",
        "X,y = load_iris(return_X_y=True)\n",
        "db = DBSCAN(eps = 0.6, min_samples=5)\n",
        "y_pred = db.fit_predict(X)\n",
        "\n",
        "print(adjusted_rand_score(y_pred, y))"
      ],
      "metadata": {
        "colab": {
          "base_uri": "https://localhost:8080/"
        },
        "id": "v3FPdezSM02v",
        "outputId": "0a42b44f-e0cc-42d4-e1ac-d14d4625a434"
      },
      "execution_count": null,
      "outputs": [
        {
          "output_type": "stream",
          "name": "stdout",
          "text": [
            "0.5369965960725409\n"
          ]
        }
      ]
    },
    {
      "cell_type": "code",
      "source": [
        "# Hyperparameter Tune\n",
        "from sklearn.metrics import silhouette_score\n",
        "\n",
        "scores = []\n",
        "for k in range(2,10):\n",
        "  km = KMeans(n_clusters=k, random_state=42, n_init= 10)\n",
        "  labels = km.fit_predict(X)\n",
        "  score = silhouette_score(X, labels)\n",
        "  scores.append(score)\n",
        "\n",
        "  print(scores)"
      ],
      "metadata": {
        "colab": {
          "base_uri": "https://localhost:8080/"
        },
        "id": "0wok1mn5Nj_k",
        "outputId": "78c27750-429e-407a-adad-c4380d95cdfc"
      },
      "execution_count": null,
      "outputs": [
        {
          "output_type": "stream",
          "name": "stdout",
          "text": [
            "[np.float64(0.6810461692117462)]\n",
            "[np.float64(0.6810461692117462), np.float64(0.5528190123564095)]\n",
            "[np.float64(0.6810461692117462), np.float64(0.5528190123564095), np.float64(0.49805050499728737)]\n",
            "[np.float64(0.6810461692117462), np.float64(0.5528190123564095), np.float64(0.49805050499728737), np.float64(0.49123997967644784)]\n",
            "[np.float64(0.6810461692117462), np.float64(0.5528190123564095), np.float64(0.49805050499728737), np.float64(0.49123997967644784), np.float64(0.36483400396700255)]\n",
            "[np.float64(0.6810461692117462), np.float64(0.5528190123564095), np.float64(0.49805050499728737), np.float64(0.49123997967644784), np.float64(0.36483400396700255), np.float64(0.3542978877198849)]\n",
            "[np.float64(0.6810461692117462), np.float64(0.5528190123564095), np.float64(0.49805050499728737), np.float64(0.49123997967644784), np.float64(0.36483400396700255), np.float64(0.3542978877198849), np.float64(0.3487345377219388)]\n",
            "[np.float64(0.6810461692117462), np.float64(0.5528190123564095), np.float64(0.49805050499728737), np.float64(0.49123997967644784), np.float64(0.36483400396700255), np.float64(0.3542978877198849), np.float64(0.3487345377219388), np.float64(0.312504408396839)]\n"
          ]
        }
      ]
    },
    {
      "cell_type": "code",
      "source": [
        "# Principal Component Analyss\n",
        "# Extracting necessary features and then making new features that are non collinear to each other thus one capturing max variance and other capturing rest variance\n",
        "# PC1 and PC2 are eigen vector and eigen values calculated by AX=lambdaX formula from covariance matrix , cov formula is sigma(x1i-x1)(x2i-x2)/n-1\n",
        "\n",
        "from sklearn.preprocessing import StandardScaler\n",
        "from sklearn.datasets import load_iris\n",
        "from sklearn.model_selection import train_test_split\n",
        "from sklearn.linear_model import LogisticRegression\n",
        "from sklearn.decomposition import PCA\n",
        "from sklearn.metrics import accuracy_score\n",
        "\n",
        "X,y = load_iris(return_X_y=True)\n",
        "X_train, X_test, y_train, y_test = train_test_split(X,y,test_size=0.3, random_state=42, stratify=y)\n",
        "lr=LogisticRegression(max_iter=1000)\n",
        "lr.fit(X_train, y_train)\n",
        "print(accuracy_score(y_test, lr.predict(X_test)))\n",
        "\n",
        "scaler = StandardScaler()\n",
        "x_scaled = scaler.fit_transform(X)\n",
        "\n",
        "pca = PCA(n_components=2)\n",
        "X_pca = pca.fit_transform(x_scaled)\n",
        "X_train_pca, X_test_pca, y_train_pca, y_test_pca = train_test_split(X_pca, y, test_size=0.3, random_state=42, stratify=y)\n",
        "lrr = LogisticRegression(max_iter=1000)\n",
        "lrr.fit(X_train_pca, y_train_pca)\n",
        "y_pred_pca = lrr.predict(X_test_pca)\n",
        "print(accuracy_score(y_test_pca, lrr.predict(X_test_pca)))"
      ],
      "metadata": {
        "id": "4I6vxfsrPlGi",
        "colab": {
          "base_uri": "https://localhost:8080/"
        },
        "outputId": "2c8c9bdd-1237-4cbd-a8b2-56e3b46c1dd1"
      },
      "execution_count": 4,
      "outputs": [
        {
          "output_type": "stream",
          "name": "stdout",
          "text": [
            "0.9333333333333333\n",
            "0.8888888888888888\n"
          ]
        }
      ]
    },
    {
      "cell_type": "code",
      "source": [],
      "metadata": {
        "id": "iqLjQtvtHnIn"
      },
      "execution_count": null,
      "outputs": []
    },
    {
      "cell_type": "code",
      "source": [],
      "metadata": {
        "id": "celxqDg9T_r9"
      },
      "execution_count": null,
      "outputs": []
    }
  ]
}